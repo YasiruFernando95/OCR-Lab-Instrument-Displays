{
 "cells": [
  {
   "cell_type": "markdown",
   "id": "7029cd82-a25b-4e61-b17b-73e0075dd431",
   "metadata": {},
   "source": [
    "### YOLO for Instrument Detection"
   ]
  },
  {
   "cell_type": "code",
   "execution_count": 1,
   "id": "394248fb-5b38-4bd6-97f5-87d5b37e8196",
   "metadata": {},
   "outputs": [],
   "source": [
    "from ultralytics import YOLO\n",
    "import os\n",
    "import matplotlib.pyplot as plt"
   ]
  },
  {
   "cell_type": "markdown",
   "id": "0af8c2ae-b775-4801-a1bb-91d2002c52fb",
   "metadata": {},
   "source": [
    "### YOLOv8"
   ]
  },
  {
   "cell_type": "code",
   "execution_count": 2,
   "id": "87bc948e-db86-42c9-b518-7480fb315949",
   "metadata": {},
   "outputs": [
    {
     "name": "stdout",
     "output_type": "stream",
     "text": [
      "New https://pypi.org/project/ultralytics/8.3.28 available  Update with 'pip install -U ultralytics'\n",
      "Ultralytics 8.3.27  Python-3.12.7 torch-2.5.1+cu124 CUDA:0 (NVIDIA GeForce RTX 4050 Laptop GPU, 6140MiB)\n",
      "\u001b[34m\u001b[1mengine\\trainer: \u001b[0mtask=detect, mode=train, model=yolov8n.pt, data=./instruments.yaml, epochs=10, time=None, patience=100, batch=16, imgsz=640, save=True, save_period=-1, cache=False, device=None, workers=8, project=None, name=train15, exist_ok=False, pretrained=True, optimizer=auto, verbose=True, seed=0, deterministic=True, single_cls=False, rect=False, cos_lr=False, close_mosaic=10, resume=False, amp=True, fraction=1.0, profile=False, freeze=None, multi_scale=False, overlap_mask=True, mask_ratio=4, dropout=0.0, val=True, split=val, save_json=False, save_hybrid=False, conf=None, iou=0.7, max_det=300, half=False, dnn=False, plots=True, source=None, vid_stride=1, stream_buffer=False, visualize=False, augment=False, agnostic_nms=False, classes=None, retina_masks=False, embed=None, show=False, save_frames=False, save_txt=False, save_conf=False, save_crop=False, show_labels=True, show_conf=True, show_boxes=True, line_width=None, format=torchscript, keras=False, optimize=False, int8=False, dynamic=False, simplify=True, opset=None, workspace=4, nms=False, lr0=0.01, lrf=0.01, momentum=0.937, weight_decay=0.0005, warmup_epochs=3.0, warmup_momentum=0.8, warmup_bias_lr=0.1, box=7.5, cls=0.5, dfl=1.5, pose=12.0, kobj=1.0, label_smoothing=0.0, nbs=64, hsv_h=0.015, hsv_s=0.7, hsv_v=0.4, degrees=0.0, translate=0.1, scale=0.5, shear=0.0, perspective=0.0, flipud=0.0, fliplr=0.5, bgr=0.0, mosaic=1.0, mixup=0.0, copy_paste=0.0, copy_paste_mode=flip, auto_augment=randaugment, erasing=0.4, crop_fraction=1.0, cfg=None, tracker=botsort.yaml, save_dir=runs\\detect\\train15\n",
      "Overriding model.yaml nc=80 with nc=11\n",
      "\n",
      "                   from  n    params  module                                       arguments                     \n",
      "  0                  -1  1       464  ultralytics.nn.modules.conv.Conv             [3, 16, 3, 2]                 \n",
      "  1                  -1  1      4672  ultralytics.nn.modules.conv.Conv             [16, 32, 3, 2]                \n",
      "  2                  -1  1      7360  ultralytics.nn.modules.block.C2f             [32, 32, 1, True]             \n",
      "  3                  -1  1     18560  ultralytics.nn.modules.conv.Conv             [32, 64, 3, 2]                \n",
      "  4                  -1  2     49664  ultralytics.nn.modules.block.C2f             [64, 64, 2, True]             \n",
      "  5                  -1  1     73984  ultralytics.nn.modules.conv.Conv             [64, 128, 3, 2]               \n",
      "  6                  -1  2    197632  ultralytics.nn.modules.block.C2f             [128, 128, 2, True]           \n",
      "  7                  -1  1    295424  ultralytics.nn.modules.conv.Conv             [128, 256, 3, 2]              \n",
      "  8                  -1  1    460288  ultralytics.nn.modules.block.C2f             [256, 256, 1, True]           \n",
      "  9                  -1  1    164608  ultralytics.nn.modules.block.SPPF            [256, 256, 5]                 \n",
      " 10                  -1  1         0  torch.nn.modules.upsampling.Upsample         [None, 2, 'nearest']          \n",
      " 11             [-1, 6]  1         0  ultralytics.nn.modules.conv.Concat           [1]                           \n",
      " 12                  -1  1    148224  ultralytics.nn.modules.block.C2f             [384, 128, 1]                 \n",
      " 13                  -1  1         0  torch.nn.modules.upsampling.Upsample         [None, 2, 'nearest']          \n",
      " 14             [-1, 4]  1         0  ultralytics.nn.modules.conv.Concat           [1]                           \n",
      " 15                  -1  1     37248  ultralytics.nn.modules.block.C2f             [192, 64, 1]                  \n",
      " 16                  -1  1     36992  ultralytics.nn.modules.conv.Conv             [64, 64, 3, 2]                \n",
      " 17            [-1, 12]  1         0  ultralytics.nn.modules.conv.Concat           [1]                           \n",
      " 18                  -1  1    123648  ultralytics.nn.modules.block.C2f             [192, 128, 1]                 \n",
      " 19                  -1  1    147712  ultralytics.nn.modules.conv.Conv             [128, 128, 3, 2]              \n",
      " 20             [-1, 9]  1         0  ultralytics.nn.modules.conv.Concat           [1]                           \n",
      " 21                  -1  1    493056  ultralytics.nn.modules.block.C2f             [384, 256, 1]                 \n",
      " 22        [15, 18, 21]  1    753457  ultralytics.nn.modules.head.Detect           [11, [64, 128, 256]]          \n",
      "Model summary: 225 layers, 3,012,993 parameters, 3,012,977 gradients, 8.2 GFLOPs\n",
      "\n",
      "Transferred 319/355 items from pretrained weights\n",
      "\u001b[34m\u001b[1mTensorBoard: \u001b[0mStart with 'tensorboard --logdir runs\\detect\\train15', view at http://localhost:6006/\n",
      "Freezing layer 'model.22.dfl.conv.weight'\n",
      "\u001b[34m\u001b[1mAMP: \u001b[0mrunning Automatic Mixed Precision (AMP) checks...\n",
      "\u001b[34m\u001b[1mAMP: \u001b[0mchecks passed \n"
     ]
    },
    {
     "name": "stderr",
     "output_type": "stream",
     "text": [
      "\u001b[34m\u001b[1mtrain: \u001b[0mScanning C:\\Users\\Yasiru Fernando\\Desktop\\DLCV Project\\dataset\\labels\\train.cache... 880 images, 0 backgrounds, \u001b[0m\n",
      "\u001b[34m\u001b[1mval: \u001b[0mScanning C:\\Users\\Yasiru Fernando\\Desktop\\DLCV Project\\dataset\\labels\\val.cache... 220 images, 0 backgrounds, 0 co\u001b[0m\n"
     ]
    },
    {
     "name": "stdout",
     "output_type": "stream",
     "text": [
      "Plotting labels to runs\\detect\\train15\\labels.jpg... \n",
      "\u001b[34m\u001b[1moptimizer:\u001b[0m 'optimizer=auto' found, ignoring 'lr0=0.01' and 'momentum=0.937' and determining best 'optimizer', 'lr0' and 'momentum' automatically... \n",
      "\u001b[34m\u001b[1moptimizer:\u001b[0m AdamW(lr=0.000667, momentum=0.9) with parameter groups 57 weight(decay=0.0), 64 weight(decay=0.0005), 63 bias(decay=0.0)\n",
      "\u001b[34m\u001b[1mTensorBoard: \u001b[0mmodel graph visualization added \n",
      "Image sizes 640 train, 640 val\n",
      "Using 8 dataloader workers\n",
      "Logging results to \u001b[1mruns\\detect\\train15\u001b[0m\n",
      "Starting training for 10 epochs...\n",
      "Closing dataloader mosaic\n",
      "\n",
      "      Epoch    GPU_mem   box_loss   cls_loss   dfl_loss  Instances       Size\n"
     ]
    },
    {
     "name": "stderr",
     "output_type": "stream",
     "text": [
      "       1/10       2.2G      1.065      3.813      1.429         17        640: 100%|██████████| 55/55 [00:10<00:00,  5.\n",
      "                 Class     Images  Instances      Box(P          R      mAP50  mAP50-95): 100%|██████████| 7/7 [00:01<0"
     ]
    },
    {
     "name": "stdout",
     "output_type": "stream",
     "text": [
      "                   all        220        225      0.994      0.247      0.807      0.624\n"
     ]
    },
    {
     "name": "stderr",
     "output_type": "stream",
     "text": [
      "\n"
     ]
    },
    {
     "name": "stdout",
     "output_type": "stream",
     "text": [
      "\n",
      "      Epoch    GPU_mem   box_loss   cls_loss   dfl_loss  Instances       Size\n"
     ]
    },
    {
     "name": "stderr",
     "output_type": "stream",
     "text": [
      "       2/10      2.08G     0.8958      2.123      1.219         16        640: 100%|██████████| 55/55 [00:08<00:00,  6.\n",
      "                 Class     Images  Instances      Box(P          R      mAP50  mAP50-95): 100%|██████████| 7/7 [00:01<0"
     ]
    },
    {
     "name": "stdout",
     "output_type": "stream",
     "text": [
      "                   all        220        225      0.897      0.907      0.978      0.754\n"
     ]
    },
    {
     "name": "stderr",
     "output_type": "stream",
     "text": [
      "\n"
     ]
    },
    {
     "name": "stdout",
     "output_type": "stream",
     "text": [
      "\n",
      "      Epoch    GPU_mem   box_loss   cls_loss   dfl_loss  Instances       Size\n"
     ]
    },
    {
     "name": "stderr",
     "output_type": "stream",
     "text": [
      "       3/10      2.08G     0.8368      1.738      1.173         17        640: 100%|██████████| 55/55 [00:09<00:00,  5.\n",
      "                 Class     Images  Instances      Box(P          R      mAP50  mAP50-95): 100%|██████████| 7/7 [00:01<0\n"
     ]
    },
    {
     "name": "stdout",
     "output_type": "stream",
     "text": [
      "                   all        220        225      0.975      0.971      0.986      0.769\n",
      "\n",
      "      Epoch    GPU_mem   box_loss   cls_loss   dfl_loss  Instances       Size\n"
     ]
    },
    {
     "name": "stderr",
     "output_type": "stream",
     "text": [
      "       4/10      2.08G      0.814      1.566      1.146         16        640: 100%|██████████| 55/55 [00:09<00:00,  5.\n",
      "                 Class     Images  Instances      Box(P          R      mAP50  mAP50-95): 100%|██████████| 7/7 [00:01<0"
     ]
    },
    {
     "name": "stdout",
     "output_type": "stream",
     "text": [
      "                   all        220        225      0.966      0.982      0.991       0.79\n"
     ]
    },
    {
     "name": "stderr",
     "output_type": "stream",
     "text": [
      "\n"
     ]
    },
    {
     "name": "stdout",
     "output_type": "stream",
     "text": [
      "\n",
      "      Epoch    GPU_mem   box_loss   cls_loss   dfl_loss  Instances       Size\n"
     ]
    },
    {
     "name": "stderr",
     "output_type": "stream",
     "text": [
      "       5/10      2.08G     0.7928      1.404      1.118         17        640: 100%|██████████| 55/55 [00:09<00:00,  5.\n",
      "                 Class     Images  Instances      Box(P          R      mAP50  mAP50-95): 100%|██████████| 7/7 [00:01<0\n"
     ]
    },
    {
     "name": "stdout",
     "output_type": "stream",
     "text": [
      "                   all        220        225       0.98      0.994      0.994      0.787\n",
      "\n",
      "      Epoch    GPU_mem   box_loss   cls_loss   dfl_loss  Instances       Size\n"
     ]
    },
    {
     "name": "stderr",
     "output_type": "stream",
     "text": [
      "       6/10      2.08G     0.7481      1.245      1.092         17        640: 100%|██████████| 55/55 [00:10<00:00,  5.\n",
      "                 Class     Images  Instances      Box(P          R      mAP50  mAP50-95): 100%|██████████| 7/7 [00:01<0\n"
     ]
    },
    {
     "name": "stdout",
     "output_type": "stream",
     "text": [
      "                   all        220        225       0.98      0.998      0.995      0.814\n",
      "\n",
      "      Epoch    GPU_mem   box_loss   cls_loss   dfl_loss  Instances       Size\n"
     ]
    },
    {
     "name": "stderr",
     "output_type": "stream",
     "text": [
      "       7/10      2.08G     0.7229      1.143      1.079         17        640: 100%|██████████| 55/55 [00:10<00:00,  5.\n",
      "                 Class     Images  Instances      Box(P          R      mAP50  mAP50-95): 100%|██████████| 7/7 [00:01<0\n"
     ]
    },
    {
     "name": "stdout",
     "output_type": "stream",
     "text": [
      "                   all        220        225      0.987      0.993      0.995      0.824\n",
      "\n",
      "      Epoch    GPU_mem   box_loss   cls_loss   dfl_loss  Instances       Size\n"
     ]
    },
    {
     "name": "stderr",
     "output_type": "stream",
     "text": [
      "       8/10      2.08G     0.6958      1.064      1.039         18        640: 100%|██████████| 55/55 [00:09<00:00,  5.\n",
      "                 Class     Images  Instances      Box(P          R      mAP50  mAP50-95): 100%|██████████| 7/7 [00:01<0"
     ]
    },
    {
     "name": "stdout",
     "output_type": "stream",
     "text": [
      "                   all        220        225      0.986      0.997      0.995      0.827\n"
     ]
    },
    {
     "name": "stderr",
     "output_type": "stream",
     "text": [
      "\n"
     ]
    },
    {
     "name": "stdout",
     "output_type": "stream",
     "text": [
      "\n",
      "      Epoch    GPU_mem   box_loss   cls_loss   dfl_loss  Instances       Size\n"
     ]
    },
    {
     "name": "stderr",
     "output_type": "stream",
     "text": [
      "       9/10      2.08G      0.653     0.9956      1.039         16        640: 100%|██████████| 55/55 [00:09<00:00,  5.\n",
      "                 Class     Images  Instances      Box(P          R      mAP50  mAP50-95): 100%|██████████| 7/7 [00:01<0"
     ]
    },
    {
     "name": "stdout",
     "output_type": "stream",
     "text": [
      "                   all        220        225      0.978      0.998      0.995      0.834\n"
     ]
    },
    {
     "name": "stderr",
     "output_type": "stream",
     "text": [
      "\n"
     ]
    },
    {
     "name": "stdout",
     "output_type": "stream",
     "text": [
      "\n",
      "      Epoch    GPU_mem   box_loss   cls_loss   dfl_loss  Instances       Size\n"
     ]
    },
    {
     "name": "stderr",
     "output_type": "stream",
     "text": [
      "      10/10      2.08G     0.6354     0.9518      1.021         16        640: 100%|██████████| 55/55 [00:09<00:00,  5.\n",
      "                 Class     Images  Instances      Box(P          R      mAP50  mAP50-95): 100%|██████████| 7/7 [00:01<0"
     ]
    },
    {
     "name": "stdout",
     "output_type": "stream",
     "text": [
      "                   all        220        225      0.989          1      0.995      0.833\n"
     ]
    },
    {
     "name": "stderr",
     "output_type": "stream",
     "text": [
      "\n"
     ]
    },
    {
     "name": "stdout",
     "output_type": "stream",
     "text": [
      "\n",
      "10 epochs completed in 0.042 hours.\n",
      "Optimizer stripped from runs\\detect\\train15\\weights\\last.pt, 6.2MB\n",
      "Optimizer stripped from runs\\detect\\train15\\weights\\best.pt, 6.2MB\n",
      "\n",
      "Validating runs\\detect\\train15\\weights\\best.pt...\n",
      "Ultralytics 8.3.27  Python-3.12.7 torch-2.5.1+cu124 CUDA:0 (NVIDIA GeForce RTX 4050 Laptop GPU, 6140MiB)\n",
      "Model summary (fused): 168 layers, 3,007,793 parameters, 0 gradients, 8.1 GFLOPs\n"
     ]
    },
    {
     "name": "stderr",
     "output_type": "stream",
     "text": [
      "                 Class     Images  Instances      Box(P          R      mAP50  mAP50-95): 100%|██████████| 7/7 [00:01<0\n"
     ]
    },
    {
     "name": "stdout",
     "output_type": "stream",
     "text": [
      "                   all        220        225      0.978      0.998      0.995      0.834\n",
      "            Centrifuge         10         10      0.957          1      0.995      0.942\n",
      "           Clamp Meter         22         22      0.979          1      0.995        0.8\n",
      "    Digital Multimeter         16         16          1      0.985      0.995      0.807\n",
      "    Function Generator         19         19      0.979          1      0.995      0.899\n",
      "        Overhead Mixer         21         21      0.982          1      0.995      0.797\n",
      "          Power Supply         18         18      0.977          1      0.995      0.904\n",
      "        Rework Station         20         20       0.98          1      0.995      0.731\n",
      "     Soldering Station         22         22      0.977          1      0.995      0.792\n",
      "           Thermometer         23         23      0.958      0.992      0.993       0.73\n",
      "            Water Bath         27         27      0.984          1      0.995      0.911\n",
      "        Weighing Scale         27         27      0.987          1      0.995       0.86\n",
      "Speed: 0.2ms preprocess, 1.3ms inference, 0.0ms loss, 1.4ms postprocess per image\n",
      "Results saved to \u001b[1mruns\\detect\\train15\u001b[0m\n"
     ]
    }
   ],
   "source": [
    "# Load the YOLO model\n",
    "model1 = YOLO('yolov8n.pt')  \n",
    "\n",
    "# Train the model\n",
    "trainer1 = model1.train(\n",
    "    data='./instruments.yaml',  # Path to YAML file\n",
    "    epochs=10,                             # Number of epochs\n",
    "    imgsz=640                              # Image size \n",
    ")"
   ]
  },
  {
   "cell_type": "code",
   "execution_count": 3,
   "id": "a800b59f-f6dc-4a98-b91c-ab7b3038fd91",
   "metadata": {},
   "outputs": [
    {
     "name": "stdout",
     "output_type": "stream",
     "text": [
      "Ultralytics 8.3.27  Python-3.12.7 torch-2.5.1+cu124 CUDA:0 (NVIDIA GeForce RTX 4050 Laptop GPU, 6140MiB)\n",
      "Model summary (fused): 168 layers, 3,007,793 parameters, 0 gradients, 8.1 GFLOPs\n"
     ]
    },
    {
     "name": "stderr",
     "output_type": "stream",
     "text": [
      "\u001b[34m\u001b[1mval: \u001b[0mScanning C:\\Users\\Yasiru Fernando\\Desktop\\DLCV Project\\dataset\\labels\\val.cache... 220 images, 0 backgrounds, 0 co\u001b[0m\n",
      "                 Class     Images  Instances      Box(P          R      mAP50  mAP50-95): 100%|██████████| 14/14 [00:02\n"
     ]
    },
    {
     "name": "stdout",
     "output_type": "stream",
     "text": [
      "                   all        220        225      0.978      0.998      0.995      0.835\n",
      "            Centrifuge         10         10      0.957          1      0.995      0.942\n",
      "           Clamp Meter         22         22      0.979          1      0.995        0.8\n",
      "    Digital Multimeter         16         16          1      0.985      0.995      0.812\n",
      "    Function Generator         19         19      0.979          1      0.995      0.899\n",
      "        Overhead Mixer         21         21      0.982          1      0.995      0.796\n",
      "          Power Supply         18         18      0.977          1      0.995      0.905\n",
      "        Rework Station         20         20       0.98          1      0.995       0.73\n",
      "     Soldering Station         22         22      0.977          1      0.995      0.792\n",
      "           Thermometer         23         23      0.958      0.991      0.993      0.738\n",
      "            Water Bath         27         27      0.984          1      0.995      0.909\n",
      "        Weighing Scale         27         27      0.987          1      0.995       0.86\n",
      "Speed: 0.5ms preprocess, 3.2ms inference, 0.0ms loss, 1.4ms postprocess per image\n",
      "Results saved to \u001b[1mruns\\detect\\train152\u001b[0m\n"
     ]
    }
   ],
   "source": [
    "# Evaluate the model\n",
    "metrics1 = model1.val()  # This will evaluate on the validation dataset specified in the YAML fileinfer_and_visualize()"
   ]
  },
  {
   "cell_type": "code",
   "execution_count": 16,
   "id": "a2a31058-9dc4-4b3b-906d-2e57f80212f8",
   "metadata": {},
   "outputs": [
    {
     "name": "stdout",
     "output_type": "stream",
     "text": [
      "\n",
      "image 1/20 C:\\Users\\Yasiru Fernando\\Desktop\\DLCV Project\\test_images\\centrifuge1.png: 384x640 1 Centrifuge, 1 Water Bath, 30.3ms\n",
      "image 2/20 C:\\Users\\Yasiru Fernando\\Desktop\\DLCV Project\\test_images\\centrifuge2.png: 384x640 1 Centrifuge, 1 Water Bath, 19.0ms\n",
      "image 3/20 C:\\Users\\Yasiru Fernando\\Desktop\\DLCV Project\\test_images\\clampmeter.png: 384x640 1 Clamp Meter, 18.0ms\n",
      "image 4/20 C:\\Users\\Yasiru Fernando\\Desktop\\DLCV Project\\test_images\\functiongenerator.png: 384x640 1 Function Generator, 18.2ms\n",
      "image 5/20 C:\\Users\\Yasiru Fernando\\Desktop\\DLCV Project\\test_images\\multimeter.png: 384x640 1 Digital Multimeter, 18.0ms\n",
      "image 6/20 C:\\Users\\Yasiru Fernando\\Desktop\\DLCV Project\\test_images\\multimeter2.png: 640x640 (no detections), 28.6ms\n",
      "image 7/20 C:\\Users\\Yasiru Fernando\\Desktop\\DLCV Project\\test_images\\overheadmixer.png: 384x640 1 Overhead Mixer, 20.0ms\n",
      "image 8/20 C:\\Users\\Yasiru Fernando\\Desktop\\DLCV Project\\test_images\\powersupply.png: 384x640 1 Power Supply, 18.5ms\n",
      "image 9/20 C:\\Users\\Yasiru Fernando\\Desktop\\DLCV Project\\test_images\\powersupply2.jpg: 640x640 (no detections), 28.5ms\n",
      "image 10/20 C:\\Users\\Yasiru Fernando\\Desktop\\DLCV Project\\test_images\\reworkstation.png: 384x640 1 Rework Station, 20.0ms\n",
      "image 11/20 C:\\Users\\Yasiru Fernando\\Desktop\\DLCV Project\\test_images\\scale1.png: 384x640 1 Weighing Scale, 18.1ms\n",
      "image 12/20 C:\\Users\\Yasiru Fernando\\Desktop\\DLCV Project\\test_images\\scale2.png: 384x640 1 Weighing Scale, 18.0ms\n",
      "image 13/20 C:\\Users\\Yasiru Fernando\\Desktop\\DLCV Project\\test_images\\scale3.jpg: 512x640 (no detections), 23.1ms\n",
      "image 14/20 C:\\Users\\Yasiru Fernando\\Desktop\\DLCV Project\\test_images\\solderingstation.png: 384x640 1 Soldering Station, 20.0ms\n",
      "image 15/20 C:\\Users\\Yasiru Fernando\\Desktop\\DLCV Project\\test_images\\thermometer1.png: 384x640 1 Thermometer, 18.5ms\n",
      "image 16/20 C:\\Users\\Yasiru Fernando\\Desktop\\DLCV Project\\test_images\\thermometer2.png: 384x640 1 Thermometer, 19.0ms\n",
      "image 17/20 C:\\Users\\Yasiru Fernando\\Desktop\\DLCV Project\\test_images\\thermometer3.png: 384x640 1 Thermometer, 19.0ms\n",
      "image 18/20 C:\\Users\\Yasiru Fernando\\Desktop\\DLCV Project\\test_images\\thermometer4.png: 384x640 1 Thermometer, 18.0ms\n",
      "image 19/20 C:\\Users\\Yasiru Fernando\\Desktop\\DLCV Project\\test_images\\thermometer5.jpeg: 640x640 (no detections), 26.5ms\n",
      "image 20/20 C:\\Users\\Yasiru Fernando\\Desktop\\DLCV Project\\test_images\\waterbath.png: 384x640 1 Water Bath, 19.0ms\n",
      "Speed: 4.1ms preprocess, 20.9ms inference, 2.0ms postprocess per image at shape (1, 3, 384, 640)\n",
      "Results saved to \u001b[1mresults_yolov8\\done\u001b[0m\n"
     ]
    }
   ],
   "source": [
    "results = model1(source='./test_images', save=True, project='./results_yolov8', name='done')"
   ]
  },
  {
   "cell_type": "markdown",
   "id": "3ddda3a3-82c4-4274-b9ea-14ed41a70aa4",
   "metadata": {},
   "source": [
    "### YOLO v10"
   ]
  },
  {
   "cell_type": "code",
   "execution_count": 2,
   "id": "0f159a08-b467-4d34-b25c-d9ec5ccebd32",
   "metadata": {},
   "outputs": [
    {
     "name": "stdout",
     "output_type": "stream",
     "text": [
      "New https://pypi.org/project/ultralytics/8.3.28 available  Update with 'pip install -U ultralytics'\n",
      "Ultralytics 8.3.27  Python-3.12.7 torch-2.5.1+cu124 CUDA:0 (NVIDIA GeForce RTX 4050 Laptop GPU, 6140MiB)\n",
      "\u001b[34m\u001b[1mengine\\trainer: \u001b[0mtask=detect, mode=train, model=yolov10n.pt, data=./instruments.yaml, epochs=10, time=None, patience=100, batch=16, imgsz=640, save=True, save_period=-1, cache=False, device=None, workers=8, project=None, name=train17, exist_ok=False, pretrained=True, optimizer=auto, verbose=True, seed=0, deterministic=True, single_cls=False, rect=False, cos_lr=False, close_mosaic=10, resume=False, amp=True, fraction=1.0, profile=False, freeze=None, multi_scale=False, overlap_mask=True, mask_ratio=4, dropout=0.0, val=True, split=val, save_json=False, save_hybrid=False, conf=None, iou=0.7, max_det=300, half=False, dnn=False, plots=True, source=None, vid_stride=1, stream_buffer=False, visualize=False, augment=False, agnostic_nms=False, classes=None, retina_masks=False, embed=None, show=False, save_frames=False, save_txt=False, save_conf=False, save_crop=False, show_labels=True, show_conf=True, show_boxes=True, line_width=None, format=torchscript, keras=False, optimize=False, int8=False, dynamic=False, simplify=True, opset=None, workspace=4, nms=False, lr0=0.01, lrf=0.01, momentum=0.937, weight_decay=0.0005, warmup_epochs=3.0, warmup_momentum=0.8, warmup_bias_lr=0.1, box=7.5, cls=0.5, dfl=1.5, pose=12.0, kobj=1.0, label_smoothing=0.0, nbs=64, hsv_h=0.015, hsv_s=0.7, hsv_v=0.4, degrees=0.0, translate=0.1, scale=0.5, shear=0.0, perspective=0.0, flipud=0.0, fliplr=0.5, bgr=0.0, mosaic=1.0, mixup=0.0, copy_paste=0.0, copy_paste_mode=flip, auto_augment=randaugment, erasing=0.4, crop_fraction=1.0, cfg=None, tracker=botsort.yaml, save_dir=runs\\detect\\train17\n",
      "Overriding model.yaml nc=80 with nc=11\n",
      "\n",
      "                   from  n    params  module                                       arguments                     \n",
      "  0                  -1  1       464  ultralytics.nn.modules.conv.Conv             [3, 16, 3, 2]                 \n",
      "  1                  -1  1      4672  ultralytics.nn.modules.conv.Conv             [16, 32, 3, 2]                \n",
      "  2                  -1  1      7360  ultralytics.nn.modules.block.C2f             [32, 32, 1, True]             \n",
      "  3                  -1  1     18560  ultralytics.nn.modules.conv.Conv             [32, 64, 3, 2]                \n",
      "  4                  -1  2     49664  ultralytics.nn.modules.block.C2f             [64, 64, 2, True]             \n",
      "  5                  -1  1      9856  ultralytics.nn.modules.block.SCDown          [64, 128, 3, 2]               \n",
      "  6                  -1  2    197632  ultralytics.nn.modules.block.C2f             [128, 128, 2, True]           \n",
      "  7                  -1  1     36096  ultralytics.nn.modules.block.SCDown          [128, 256, 3, 2]              \n",
      "  8                  -1  1    460288  ultralytics.nn.modules.block.C2f             [256, 256, 1, True]           \n",
      "  9                  -1  1    164608  ultralytics.nn.modules.block.SPPF            [256, 256, 5]                 \n",
      " 10                  -1  1    249728  ultralytics.nn.modules.block.PSA             [256, 256]                    \n",
      " 11                  -1  1         0  torch.nn.modules.upsampling.Upsample         [None, 2, 'nearest']          \n",
      " 12             [-1, 6]  1         0  ultralytics.nn.modules.conv.Concat           [1]                           \n",
      " 13                  -1  1    148224  ultralytics.nn.modules.block.C2f             [384, 128, 1]                 \n",
      " 14                  -1  1         0  torch.nn.modules.upsampling.Upsample         [None, 2, 'nearest']          \n",
      " 15             [-1, 4]  1         0  ultralytics.nn.modules.conv.Concat           [1]                           \n",
      " 16                  -1  1     37248  ultralytics.nn.modules.block.C2f             [192, 64, 1]                  \n",
      " 17                  -1  1     36992  ultralytics.nn.modules.conv.Conv             [64, 64, 3, 2]                \n",
      " 18            [-1, 13]  1         0  ultralytics.nn.modules.conv.Concat           [1]                           \n",
      " 19                  -1  1    123648  ultralytics.nn.modules.block.C2f             [192, 128, 1]                 \n",
      " 20                  -1  1     18048  ultralytics.nn.modules.block.SCDown          [128, 128, 3, 2]              \n",
      " 21            [-1, 10]  1         0  ultralytics.nn.modules.conv.Concat           [1]                           \n",
      " 22                  -1  1    282624  ultralytics.nn.modules.block.C2fCIB          [384, 256, 1, True, True]     \n",
      " 23        [16, 19, 22]  1    865618  ultralytics.nn.modules.head.v10Detect        [11, [64, 128, 256]]          \n",
      "YOLOv10n summary: 385 layers, 2,711,330 parameters, 2,711,314 gradients, 8.4 GFLOPs\n",
      "\n",
      "Transferred 493/595 items from pretrained weights\n",
      "\u001b[34m\u001b[1mTensorBoard: \u001b[0mStart with 'tensorboard --logdir runs\\detect\\train17', view at http://localhost:6006/\n",
      "Freezing layer 'model.23.dfl.conv.weight'\n",
      "\u001b[34m\u001b[1mAMP: \u001b[0mrunning Automatic Mixed Precision (AMP) checks...\n",
      "\u001b[34m\u001b[1mAMP: \u001b[0mchecks passed \n"
     ]
    },
    {
     "name": "stderr",
     "output_type": "stream",
     "text": [
      "\u001b[34m\u001b[1mtrain: \u001b[0mScanning C:\\Users\\Yasiru Fernando\\Desktop\\DLCV Project\\dataset\\labels\\train.cache... 880 images, 0 backgrounds, \u001b[0m\n",
      "\u001b[34m\u001b[1mval: \u001b[0mScanning C:\\Users\\Yasiru Fernando\\Desktop\\DLCV Project\\dataset\\labels\\val.cache... 220 images, 0 backgrounds, 0 co\u001b[0m\n"
     ]
    },
    {
     "name": "stdout",
     "output_type": "stream",
     "text": [
      "Plotting labels to runs\\detect\\train17\\labels.jpg... \n",
      "\u001b[34m\u001b[1moptimizer:\u001b[0m 'optimizer=auto' found, ignoring 'lr0=0.01' and 'momentum=0.937' and determining best 'optimizer', 'lr0' and 'momentum' automatically... \n",
      "\u001b[34m\u001b[1moptimizer:\u001b[0m AdamW(lr=0.000667, momentum=0.9) with parameter groups 95 weight(decay=0.0), 108 weight(decay=0.0005), 107 bias(decay=0.0)\n",
      "\u001b[34m\u001b[1mTensorBoard: \u001b[0mmodel graph visualization added \n",
      "Image sizes 640 train, 640 val\n",
      "Using 8 dataloader workers\n",
      "Logging results to \u001b[1mruns\\detect\\train17\u001b[0m\n",
      "Starting training for 10 epochs...\n",
      "Closing dataloader mosaic\n",
      "\n",
      "      Epoch    GPU_mem   box_loss   cls_loss   dfl_loss  Instances       Size\n"
     ]
    },
    {
     "name": "stderr",
     "output_type": "stream",
     "text": [
      "       1/10      2.98G      1.945      14.83      2.711         17        640: 100%|██████████| 55/55 [00:15<00:00,  3.\n",
      "                 Class     Images  Instances      Box(P          R      mAP50  mAP50-95): 100%|██████████| 7/7 [00:01<0"
     ]
    },
    {
     "name": "stdout",
     "output_type": "stream",
     "text": [
      "                   all        220        225    0.00455      0.988      0.522      0.424\n"
     ]
    },
    {
     "name": "stderr",
     "output_type": "stream",
     "text": [
      "\n"
     ]
    },
    {
     "name": "stdout",
     "output_type": "stream",
     "text": [
      "\n",
      "      Epoch    GPU_mem   box_loss   cls_loss   dfl_loss  Instances       Size\n"
     ]
    },
    {
     "name": "stderr",
     "output_type": "stream",
     "text": [
      "       2/10      2.93G      1.719       11.2      2.359         16        640: 100%|██████████| 55/55 [00:12<00:00,  4.\n",
      "                 Class     Images  Instances      Box(P          R      mAP50  mAP50-95): 100%|██████████| 7/7 [00:01<0"
     ]
    },
    {
     "name": "stdout",
     "output_type": "stream",
     "text": [
      "                   all        220        225      0.714      0.304      0.645      0.516\n"
     ]
    },
    {
     "name": "stderr",
     "output_type": "stream",
     "text": [
      "\n"
     ]
    },
    {
     "name": "stdout",
     "output_type": "stream",
     "text": [
      "\n",
      "      Epoch    GPU_mem   box_loss   cls_loss   dfl_loss  Instances       Size\n"
     ]
    },
    {
     "name": "stderr",
     "output_type": "stream",
     "text": [
      "       3/10      2.93G      1.711      9.626      2.341         17        640: 100%|██████████| 55/55 [00:12<00:00,  4.\n",
      "                 Class     Images  Instances      Box(P          R      mAP50  mAP50-95): 100%|██████████| 7/7 [00:01<0"
     ]
    },
    {
     "name": "stdout",
     "output_type": "stream",
     "text": [
      "                   all        220        225      0.589      0.595      0.702      0.541\n"
     ]
    },
    {
     "name": "stderr",
     "output_type": "stream",
     "text": [
      "\n"
     ]
    },
    {
     "name": "stdout",
     "output_type": "stream",
     "text": [
      "\n",
      "      Epoch    GPU_mem   box_loss   cls_loss   dfl_loss  Instances       Size\n"
     ]
    },
    {
     "name": "stderr",
     "output_type": "stream",
     "text": [
      "       4/10      2.93G      1.686      8.473      2.304         16        640: 100%|██████████| 55/55 [00:13<00:00,  4.\n",
      "                 Class     Images  Instances      Box(P          R      mAP50  mAP50-95): 100%|██████████| 7/7 [00:01<0"
     ]
    },
    {
     "name": "stdout",
     "output_type": "stream",
     "text": [
      "                   all        220        225      0.702      0.792      0.833      0.662\n"
     ]
    },
    {
     "name": "stderr",
     "output_type": "stream",
     "text": [
      "\n"
     ]
    },
    {
     "name": "stdout",
     "output_type": "stream",
     "text": [
      "\n",
      "      Epoch    GPU_mem   box_loss   cls_loss   dfl_loss  Instances       Size\n"
     ]
    },
    {
     "name": "stderr",
     "output_type": "stream",
     "text": [
      "       5/10      2.93G      1.594      7.385      2.237         17        640: 100%|██████████| 55/55 [00:13<00:00,  4.\n",
      "                 Class     Images  Instances      Box(P          R      mAP50  mAP50-95): 100%|██████████| 7/7 [00:01<0"
     ]
    },
    {
     "name": "stdout",
     "output_type": "stream",
     "text": [
      "                   all        220        225      0.672      0.816       0.89      0.717\n"
     ]
    },
    {
     "name": "stderr",
     "output_type": "stream",
     "text": [
      "\n"
     ]
    },
    {
     "name": "stdout",
     "output_type": "stream",
     "text": [
      "\n",
      "      Epoch    GPU_mem   box_loss   cls_loss   dfl_loss  Instances       Size\n"
     ]
    },
    {
     "name": "stderr",
     "output_type": "stream",
     "text": [
      "       6/10      2.93G      1.556      6.629      2.207         17        640: 100%|██████████| 55/55 [00:12<00:00,  4.\n",
      "                 Class     Images  Instances      Box(P          R      mAP50  mAP50-95): 100%|██████████| 7/7 [00:01<0"
     ]
    },
    {
     "name": "stdout",
     "output_type": "stream",
     "text": [
      "                   all        220        225      0.657      0.875      0.902      0.726\n"
     ]
    },
    {
     "name": "stderr",
     "output_type": "stream",
     "text": [
      "\n"
     ]
    },
    {
     "name": "stdout",
     "output_type": "stream",
     "text": [
      "\n",
      "      Epoch    GPU_mem   box_loss   cls_loss   dfl_loss  Instances       Size\n"
     ]
    },
    {
     "name": "stderr",
     "output_type": "stream",
     "text": [
      "       7/10      2.93G      1.491      6.028      2.177         17        640: 100%|██████████| 55/55 [00:12<00:00,  4.\n",
      "                 Class     Images  Instances      Box(P          R      mAP50  mAP50-95): 100%|██████████| 7/7 [00:01<0\n"
     ]
    },
    {
     "name": "stdout",
     "output_type": "stream",
     "text": [
      "                   all        220        225      0.914      0.738      0.931      0.766\n",
      "\n",
      "      Epoch    GPU_mem   box_loss   cls_loss   dfl_loss  Instances       Size\n"
     ]
    },
    {
     "name": "stderr",
     "output_type": "stream",
     "text": [
      "       8/10      2.93G      1.429      5.572      2.089         18        640: 100%|██████████| 55/55 [00:13<00:00,  4.\n",
      "                 Class     Images  Instances      Box(P          R      mAP50  mAP50-95): 100%|██████████| 7/7 [00:01<0"
     ]
    },
    {
     "name": "stdout",
     "output_type": "stream",
     "text": [
      "                   all        220        225      0.839      0.836      0.942      0.761\n"
     ]
    },
    {
     "name": "stderr",
     "output_type": "stream",
     "text": [
      "\n"
     ]
    },
    {
     "name": "stdout",
     "output_type": "stream",
     "text": [
      "\n",
      "      Epoch    GPU_mem   box_loss   cls_loss   dfl_loss  Instances       Size\n"
     ]
    },
    {
     "name": "stderr",
     "output_type": "stream",
     "text": [
      "       9/10      2.93G      1.371      5.207      2.101         16        640: 100%|██████████| 55/55 [00:12<00:00,  4.\n",
      "                 Class     Images  Instances      Box(P          R      mAP50  mAP50-95): 100%|██████████| 7/7 [00:01<0\n"
     ]
    },
    {
     "name": "stdout",
     "output_type": "stream",
     "text": [
      "                   all        220        225      0.885      0.871      0.949      0.782\n",
      "\n",
      "      Epoch    GPU_mem   box_loss   cls_loss   dfl_loss  Instances       Size\n"
     ]
    },
    {
     "name": "stderr",
     "output_type": "stream",
     "text": [
      "      10/10      2.93G      1.321      5.015      2.051         16        640: 100%|██████████| 55/55 [00:13<00:00,  4.\n",
      "                 Class     Images  Instances      Box(P          R      mAP50  mAP50-95): 100%|██████████| 7/7 [00:01<0\n"
     ]
    },
    {
     "name": "stdout",
     "output_type": "stream",
     "text": [
      "                   all        220        225      0.897      0.914      0.967      0.807\n",
      "\n",
      "10 epochs completed in 0.065 hours.\n",
      "Optimizer stripped from runs\\detect\\train17\\weights\\last.pt, 5.7MB\n",
      "Optimizer stripped from runs\\detect\\train17\\weights\\best.pt, 5.7MB\n",
      "\n",
      "Validating runs\\detect\\train17\\weights\\best.pt...\n",
      "Ultralytics 8.3.27  Python-3.12.7 torch-2.5.1+cu124 CUDA:0 (NVIDIA GeForce RTX 4050 Laptop GPU, 6140MiB)\n",
      "YOLOv10n summary (fused): 285 layers, 2,698,706 parameters, 0 gradients, 8.2 GFLOPs\n"
     ]
    },
    {
     "name": "stderr",
     "output_type": "stream",
     "text": [
      "                 Class     Images  Instances      Box(P          R      mAP50  mAP50-95): 100%|██████████| 7/7 [00:01<0\n"
     ]
    },
    {
     "name": "stdout",
     "output_type": "stream",
     "text": [
      "                   all        220        225      0.897      0.915      0.967      0.807\n",
      "            Centrifuge         10         10          1      0.944      0.995       0.89\n",
      "           Clamp Meter         22         22       0.95      0.863      0.979      0.771\n",
      "    Digital Multimeter         16         16      0.881          1      0.995      0.833\n",
      "    Function Generator         19         19      0.853      0.918      0.979      0.855\n",
      "        Overhead Mixer         21         21      0.679      0.808      0.878      0.692\n",
      "          Power Supply         18         18      0.888          1      0.995      0.901\n",
      "        Rework Station         20         20          1      0.906      0.995      0.768\n",
      "     Soldering Station         22         22          1      0.856      0.988      0.827\n",
      "           Thermometer         23         23      0.797      0.853      0.862      0.619\n",
      "            Water Bath         27         27      0.928          1      0.995      0.888\n",
      "        Weighing Scale         27         27      0.892      0.918      0.974       0.83\n",
      "Speed: 0.2ms preprocess, 1.8ms inference, 0.0ms loss, 0.5ms postprocess per image\n",
      "Results saved to \u001b[1mruns\\detect\\train17\u001b[0m\n"
     ]
    }
   ],
   "source": [
    "# Load the YOLO model\n",
    "model2 = YOLO('yolov10n.pt')  \n",
    "\n",
    "# Train the model\n",
    "trainer2 = model2.train(\n",
    "    data='./instruments.yaml',  # Path to YAML file\n",
    "    epochs=10,                             # Number of epochs\n",
    "    imgsz=640                              # Image size \n",
    ")"
   ]
  },
  {
   "cell_type": "code",
   "execution_count": 3,
   "id": "39e8c864-9262-43ea-8447-2270f636846d",
   "metadata": {},
   "outputs": [
    {
     "name": "stdout",
     "output_type": "stream",
     "text": [
      "Ultralytics 8.3.27  Python-3.12.7 torch-2.5.1+cu124 CUDA:0 (NVIDIA GeForce RTX 4050 Laptop GPU, 6140MiB)\n",
      "YOLOv10n summary (fused): 285 layers, 2,698,706 parameters, 0 gradients, 8.2 GFLOPs\n"
     ]
    },
    {
     "name": "stderr",
     "output_type": "stream",
     "text": [
      "\u001b[34m\u001b[1mval: \u001b[0mScanning C:\\Users\\Yasiru Fernando\\Desktop\\DLCV Project\\dataset\\labels\\val.cache... 220 images, 0 backgrounds, 0 co\u001b[0m\n",
      "                 Class     Images  Instances      Box(P          R      mAP50  mAP50-95): 100%|██████████| 14/14 [00:02\n"
     ]
    },
    {
     "name": "stdout",
     "output_type": "stream",
     "text": [
      "                   all        220        225      0.897      0.914      0.967      0.807\n",
      "            Centrifuge         10         10          1      0.943      0.995       0.89\n",
      "           Clamp Meter         22         22       0.95       0.86      0.979       0.77\n",
      "    Digital Multimeter         16         16      0.881          1      0.995      0.826\n",
      "    Function Generator         19         19      0.853      0.916      0.979      0.855\n",
      "        Overhead Mixer         21         21      0.679      0.805      0.881      0.695\n",
      "          Power Supply         18         18      0.889          1      0.995      0.901\n",
      "        Rework Station         20         20          1      0.905      0.995      0.768\n",
      "     Soldering Station         22         22          1      0.856      0.989       0.83\n",
      "           Thermometer         23         23      0.796      0.851      0.862      0.619\n",
      "            Water Bath         27         27      0.931          1      0.995      0.888\n",
      "        Weighing Scale         27         27      0.892      0.916      0.974       0.83\n",
      "Speed: 0.5ms preprocess, 4.0ms inference, 0.0ms loss, 0.3ms postprocess per image\n",
      "Results saved to \u001b[1mruns\\detect\\train172\u001b[0m\n"
     ]
    }
   ],
   "source": [
    "# Evaluate the model\n",
    "metrics2 = model2.val()  # This will evaluate on the validation dataset specified in the YAML fileinfer_and_visualize()"
   ]
  },
  {
   "cell_type": "code",
   "execution_count": 5,
   "id": "b90b81d6-1874-40cf-bf1a-c4afef3a7ca4",
   "metadata": {},
   "outputs": [
    {
     "name": "stdout",
     "output_type": "stream",
     "text": [
      "\n",
      "image 1/20 C:\\Users\\Yasiru Fernando\\Desktop\\DLCV Project\\test_images\\centrifuge1.png: 384x640 1 Centrifuge, 2 Water Baths, 59.3ms\n",
      "image 2/20 C:\\Users\\Yasiru Fernando\\Desktop\\DLCV Project\\test_images\\centrifuge2.png: 384x640 2 Centrifuges, 2 Water Baths, 25.0ms\n",
      "image 3/20 C:\\Users\\Yasiru Fernando\\Desktop\\DLCV Project\\test_images\\clampmeter.png: 384x640 1 Clamp Meter, 24.6ms\n",
      "image 4/20 C:\\Users\\Yasiru Fernando\\Desktop\\DLCV Project\\test_images\\functiongenerator.png: 384x640 1 Function Generator, 24.0ms\n",
      "image 5/20 C:\\Users\\Yasiru Fernando\\Desktop\\DLCV Project\\test_images\\multimeter.png: 384x640 1 Digital Multimeter, 23.5ms\n",
      "image 6/20 C:\\Users\\Yasiru Fernando\\Desktop\\DLCV Project\\test_images\\multimeter2.png: 640x640 (no detections), 36.6ms\n",
      "image 7/20 C:\\Users\\Yasiru Fernando\\Desktop\\DLCV Project\\test_images\\overheadmixer.png: 384x640 1 Overhead Mixer, 23.9ms\n",
      "image 8/20 C:\\Users\\Yasiru Fernando\\Desktop\\DLCV Project\\test_images\\powersupply.png: 384x640 (no detections), 24.0ms\n",
      "image 9/20 C:\\Users\\Yasiru Fernando\\Desktop\\DLCV Project\\test_images\\powersupply2.jpg: 640x640 (no detections), 37.0ms\n",
      "image 10/20 C:\\Users\\Yasiru Fernando\\Desktop\\DLCV Project\\test_images\\reworkstation.png: 384x640 1 Rework Station, 26.6ms\n",
      "image 11/20 C:\\Users\\Yasiru Fernando\\Desktop\\DLCV Project\\test_images\\scale1.png: 384x640 2 Weighing Scales, 24.1ms\n",
      "image 12/20 C:\\Users\\Yasiru Fernando\\Desktop\\DLCV Project\\test_images\\scale2.png: 384x640 1 Weighing Scale, 24.0ms\n",
      "image 13/20 C:\\Users\\Yasiru Fernando\\Desktop\\DLCV Project\\test_images\\scale3.jpg: 512x640 (no detections), 63.8ms\n",
      "image 14/20 C:\\Users\\Yasiru Fernando\\Desktop\\DLCV Project\\test_images\\solderingstation.png: 384x640 1 Soldering Station, 24.5ms\n",
      "image 15/20 C:\\Users\\Yasiru Fernando\\Desktop\\DLCV Project\\test_images\\thermometer1.png: 384x640 1 Thermometer, 23.5ms\n",
      "image 16/20 C:\\Users\\Yasiru Fernando\\Desktop\\DLCV Project\\test_images\\thermometer2.png: 384x640 1 Thermometer, 25.0ms\n",
      "image 17/20 C:\\Users\\Yasiru Fernando\\Desktop\\DLCV Project\\test_images\\thermometer3.png: 384x640 1 Thermometer, 24.6ms\n",
      "image 18/20 C:\\Users\\Yasiru Fernando\\Desktop\\DLCV Project\\test_images\\thermometer4.png: 384x640 1 Thermometer, 24.6ms\n",
      "image 19/20 C:\\Users\\Yasiru Fernando\\Desktop\\DLCV Project\\test_images\\thermometer5.jpeg: 640x640 (no detections), 35.1ms\n",
      "image 20/20 C:\\Users\\Yasiru Fernando\\Desktop\\DLCV Project\\test_images\\waterbath.png: 384x640 2 Water Baths, 24.0ms\n",
      "Speed: 4.1ms preprocess, 29.9ms inference, 0.7ms postprocess per image at shape (1, 3, 384, 640)\n",
      "Results saved to \u001b[1mresults_yolov10\\done\u001b[0m\n"
     ]
    }
   ],
   "source": [
    "results = model2(source='./test_images', save=True, project='./results_yolov10', name='done')"
   ]
  },
  {
   "cell_type": "markdown",
   "id": "dafca8fb-e85c-4145-b2ef-e83ea6fc03bd",
   "metadata": {},
   "source": [
    "### YOLO v11"
   ]
  },
  {
   "cell_type": "code",
   "execution_count": 2,
   "id": "01926989-a5d0-413f-88c0-e292731b9ff8",
   "metadata": {},
   "outputs": [
    {
     "name": "stdout",
     "output_type": "stream",
     "text": [
      "New https://pypi.org/project/ultralytics/8.3.28 available  Update with 'pip install -U ultralytics'\n",
      "Ultralytics 8.3.27  Python-3.12.7 torch-2.5.1+cu124 CUDA:0 (NVIDIA GeForce RTX 4050 Laptop GPU, 6140MiB)\n",
      "\u001b[34m\u001b[1mengine\\trainer: \u001b[0mtask=detect, mode=train, model=yolo11n.pt, data=./instruments.yaml, epochs=10, time=None, patience=100, batch=16, imgsz=640, save=True, save_period=-1, cache=False, device=None, workers=8, project=None, name=train19, exist_ok=False, pretrained=True, optimizer=auto, verbose=True, seed=0, deterministic=True, single_cls=False, rect=False, cos_lr=False, close_mosaic=10, resume=False, amp=True, fraction=1.0, profile=False, freeze=None, multi_scale=False, overlap_mask=True, mask_ratio=4, dropout=0.0, val=True, split=val, save_json=False, save_hybrid=False, conf=None, iou=0.7, max_det=300, half=False, dnn=False, plots=True, source=None, vid_stride=1, stream_buffer=False, visualize=False, augment=False, agnostic_nms=False, classes=None, retina_masks=False, embed=None, show=False, save_frames=False, save_txt=False, save_conf=False, save_crop=False, show_labels=True, show_conf=True, show_boxes=True, line_width=None, format=torchscript, keras=False, optimize=False, int8=False, dynamic=False, simplify=True, opset=None, workspace=4, nms=False, lr0=0.01, lrf=0.01, momentum=0.937, weight_decay=0.0005, warmup_epochs=3.0, warmup_momentum=0.8, warmup_bias_lr=0.1, box=7.5, cls=0.5, dfl=1.5, pose=12.0, kobj=1.0, label_smoothing=0.0, nbs=64, hsv_h=0.015, hsv_s=0.7, hsv_v=0.4, degrees=0.0, translate=0.1, scale=0.5, shear=0.0, perspective=0.0, flipud=0.0, fliplr=0.5, bgr=0.0, mosaic=1.0, mixup=0.0, copy_paste=0.0, copy_paste_mode=flip, auto_augment=randaugment, erasing=0.4, crop_fraction=1.0, cfg=None, tracker=botsort.yaml, save_dir=runs\\detect\\train19\n",
      "Overriding model.yaml nc=80 with nc=11\n",
      "\n",
      "                   from  n    params  module                                       arguments                     \n",
      "  0                  -1  1       464  ultralytics.nn.modules.conv.Conv             [3, 16, 3, 2]                 \n",
      "  1                  -1  1      4672  ultralytics.nn.modules.conv.Conv             [16, 32, 3, 2]                \n",
      "  2                  -1  1      6640  ultralytics.nn.modules.block.C3k2            [32, 64, 1, False, 0.25]      \n",
      "  3                  -1  1     36992  ultralytics.nn.modules.conv.Conv             [64, 64, 3, 2]                \n",
      "  4                  -1  1     26080  ultralytics.nn.modules.block.C3k2            [64, 128, 1, False, 0.25]     \n",
      "  5                  -1  1    147712  ultralytics.nn.modules.conv.Conv             [128, 128, 3, 2]              \n",
      "  6                  -1  1     87040  ultralytics.nn.modules.block.C3k2            [128, 128, 1, True]           \n",
      "  7                  -1  1    295424  ultralytics.nn.modules.conv.Conv             [128, 256, 3, 2]              \n",
      "  8                  -1  1    346112  ultralytics.nn.modules.block.C3k2            [256, 256, 1, True]           \n",
      "  9                  -1  1    164608  ultralytics.nn.modules.block.SPPF            [256, 256, 5]                 \n",
      " 10                  -1  1    249728  ultralytics.nn.modules.block.C2PSA           [256, 256, 1]                 \n",
      " 11                  -1  1         0  torch.nn.modules.upsampling.Upsample         [None, 2, 'nearest']          \n",
      " 12             [-1, 6]  1         0  ultralytics.nn.modules.conv.Concat           [1]                           \n",
      " 13                  -1  1    111296  ultralytics.nn.modules.block.C3k2            [384, 128, 1, False]          \n",
      " 14                  -1  1         0  torch.nn.modules.upsampling.Upsample         [None, 2, 'nearest']          \n",
      " 15             [-1, 4]  1         0  ultralytics.nn.modules.conv.Concat           [1]                           \n",
      " 16                  -1  1     32096  ultralytics.nn.modules.block.C3k2            [256, 64, 1, False]           \n",
      " 17                  -1  1     36992  ultralytics.nn.modules.conv.Conv             [64, 64, 3, 2]                \n",
      " 18            [-1, 13]  1         0  ultralytics.nn.modules.conv.Concat           [1]                           \n",
      " 19                  -1  1     86720  ultralytics.nn.modules.block.C3k2            [192, 128, 1, False]          \n",
      " 20                  -1  1    147712  ultralytics.nn.modules.conv.Conv             [128, 128, 3, 2]              \n",
      " 21            [-1, 10]  1         0  ultralytics.nn.modules.conv.Concat           [1]                           \n",
      " 22                  -1  1    378880  ultralytics.nn.modules.block.C3k2            [384, 256, 1, True]           \n",
      " 23        [16, 19, 22]  1    432817  ultralytics.nn.modules.head.Detect           [11, [64, 128, 256]]          \n",
      "YOLO11n summary: 319 layers, 2,591,985 parameters, 2,591,969 gradients, 6.5 GFLOPs\n",
      "\n",
      "Transferred 448/499 items from pretrained weights\n",
      "\u001b[34m\u001b[1mTensorBoard: \u001b[0mStart with 'tensorboard --logdir runs\\detect\\train19', view at http://localhost:6006/\n",
      "Freezing layer 'model.23.dfl.conv.weight'\n",
      "\u001b[34m\u001b[1mAMP: \u001b[0mrunning Automatic Mixed Precision (AMP) checks...\n",
      "\u001b[34m\u001b[1mAMP: \u001b[0mchecks passed \n"
     ]
    },
    {
     "name": "stderr",
     "output_type": "stream",
     "text": [
      "\u001b[34m\u001b[1mtrain: \u001b[0mScanning C:\\Users\\Yasiru Fernando\\Desktop\\DLCV Project\\dataset\\labels\\train.cache... 880 images, 0 backgrounds, \u001b[0m\n",
      "\u001b[34m\u001b[1mval: \u001b[0mScanning C:\\Users\\Yasiru Fernando\\Desktop\\DLCV Project\\dataset\\labels\\val.cache... 220 images, 0 backgrounds, 0 co\u001b[0m\n"
     ]
    },
    {
     "name": "stdout",
     "output_type": "stream",
     "text": [
      "Plotting labels to runs\\detect\\train19\\labels.jpg... \n",
      "\u001b[34m\u001b[1moptimizer:\u001b[0m 'optimizer=auto' found, ignoring 'lr0=0.01' and 'momentum=0.937' and determining best 'optimizer', 'lr0' and 'momentum' automatically... \n",
      "\u001b[34m\u001b[1moptimizer:\u001b[0m AdamW(lr=0.000667, momentum=0.9) with parameter groups 81 weight(decay=0.0), 88 weight(decay=0.0005), 87 bias(decay=0.0)\n",
      "\u001b[34m\u001b[1mTensorBoard: \u001b[0mmodel graph visualization added \n",
      "Image sizes 640 train, 640 val\n",
      "Using 8 dataloader workers\n",
      "Logging results to \u001b[1mruns\\detect\\train19\u001b[0m\n",
      "Starting training for 10 epochs...\n",
      "Closing dataloader mosaic\n",
      "\n",
      "      Epoch    GPU_mem   box_loss   cls_loss   dfl_loss  Instances       Size\n"
     ]
    },
    {
     "name": "stderr",
     "output_type": "stream",
     "text": [
      "       1/10       2.5G      1.053          4      1.432         17        640: 100%|██████████| 55/55 [00:11<00:00,  4.\n",
      "                 Class     Images  Instances      Box(P          R      mAP50  mAP50-95): 100%|██████████| 7/7 [00:01<0"
     ]
    },
    {
     "name": "stdout",
     "output_type": "stream",
     "text": [
      "                   all        220        225    0.00905       0.98      0.627      0.485\n"
     ]
    },
    {
     "name": "stderr",
     "output_type": "stream",
     "text": [
      "\n"
     ]
    },
    {
     "name": "stdout",
     "output_type": "stream",
     "text": [
      "\n",
      "      Epoch    GPU_mem   box_loss   cls_loss   dfl_loss  Instances       Size\n"
     ]
    },
    {
     "name": "stderr",
     "output_type": "stream",
     "text": [
      "       2/10      2.48G      0.872      2.516      1.247         16        640: 100%|██████████| 55/55 [00:10<00:00,  5.\n",
      "                 Class     Images  Instances      Box(P          R      mAP50  mAP50-95): 100%|██████████| 7/7 [00:01<0"
     ]
    },
    {
     "name": "stdout",
     "output_type": "stream",
     "text": [
      "                   all        220        225      0.947      0.901      0.955      0.723\n"
     ]
    },
    {
     "name": "stderr",
     "output_type": "stream",
     "text": [
      "\n"
     ]
    },
    {
     "name": "stdout",
     "output_type": "stream",
     "text": [
      "\n",
      "      Epoch    GPU_mem   box_loss   cls_loss   dfl_loss  Instances       Size\n"
     ]
    },
    {
     "name": "stderr",
     "output_type": "stream",
     "text": [
      "       3/10      2.49G     0.8462      1.866      1.204         17        640: 100%|██████████| 55/55 [00:10<00:00,  5.\n",
      "                 Class     Images  Instances      Box(P          R      mAP50  mAP50-95): 100%|██████████| 7/7 [00:01<0\n"
     ]
    },
    {
     "name": "stdout",
     "output_type": "stream",
     "text": [
      "                   all        220        225      0.867      0.888      0.986      0.758\n",
      "\n",
      "      Epoch    GPU_mem   box_loss   cls_loss   dfl_loss  Instances       Size\n"
     ]
    },
    {
     "name": "stderr",
     "output_type": "stream",
     "text": [
      "       4/10      2.48G     0.8186      1.664      1.168         16        640: 100%|██████████| 55/55 [00:10<00:00,  5.\n",
      "                 Class     Images  Instances      Box(P          R      mAP50  mAP50-95): 100%|██████████| 7/7 [00:01<0"
     ]
    },
    {
     "name": "stdout",
     "output_type": "stream",
     "text": [
      "                   all        220        225      0.958      0.967       0.99      0.783\n"
     ]
    },
    {
     "name": "stderr",
     "output_type": "stream",
     "text": [
      "\n"
     ]
    },
    {
     "name": "stdout",
     "output_type": "stream",
     "text": [
      "\n",
      "      Epoch    GPU_mem   box_loss   cls_loss   dfl_loss  Instances       Size\n"
     ]
    },
    {
     "name": "stderr",
     "output_type": "stream",
     "text": [
      "       5/10      2.49G     0.7798      1.459      1.125         17        640: 100%|██████████| 55/55 [00:10<00:00,  5.\n",
      "                 Class     Images  Instances      Box(P          R      mAP50  mAP50-95): 100%|██████████| 7/7 [00:01<0\n"
     ]
    },
    {
     "name": "stdout",
     "output_type": "stream",
     "text": [
      "                   all        220        225      0.983      0.976      0.995       0.79\n",
      "\n",
      "      Epoch    GPU_mem   box_loss   cls_loss   dfl_loss  Instances       Size\n"
     ]
    },
    {
     "name": "stderr",
     "output_type": "stream",
     "text": [
      "       6/10      2.38G     0.7776      1.338       1.11         17        640: 100%|██████████| 55/55 [00:10<00:00,  5.\n",
      "                 Class     Images  Instances      Box(P          R      mAP50  mAP50-95): 100%|██████████| 7/7 [00:01<0\n"
     ]
    },
    {
     "name": "stdout",
     "output_type": "stream",
     "text": [
      "                   all        220        225      0.985      0.992      0.995      0.797\n",
      "\n",
      "      Epoch    GPU_mem   box_loss   cls_loss   dfl_loss  Instances       Size\n"
     ]
    },
    {
     "name": "stderr",
     "output_type": "stream",
     "text": [
      "       7/10      2.48G     0.7296      1.222      1.078         17        640: 100%|██████████| 55/55 [00:10<00:00,  5.\n",
      "                 Class     Images  Instances      Box(P          R      mAP50  mAP50-95): 100%|██████████| 7/7 [00:01<0"
     ]
    },
    {
     "name": "stdout",
     "output_type": "stream",
     "text": [
      "                   all        220        225       0.99      0.991      0.995      0.799\n"
     ]
    },
    {
     "name": "stderr",
     "output_type": "stream",
     "text": [
      "\n"
     ]
    },
    {
     "name": "stdout",
     "output_type": "stream",
     "text": [
      "\n",
      "      Epoch    GPU_mem   box_loss   cls_loss   dfl_loss  Instances       Size\n"
     ]
    },
    {
     "name": "stderr",
     "output_type": "stream",
     "text": [
      "       8/10      2.48G     0.7192      1.143      1.055         18        640: 100%|██████████| 55/55 [00:10<00:00,  5.\n",
      "                 Class     Images  Instances      Box(P          R      mAP50  mAP50-95): 100%|██████████| 7/7 [00:01<0\n"
     ]
    },
    {
     "name": "stdout",
     "output_type": "stream",
     "text": [
      "                   all        220        225      0.984          1      0.994      0.808\n",
      "\n",
      "      Epoch    GPU_mem   box_loss   cls_loss   dfl_loss  Instances       Size\n"
     ]
    },
    {
     "name": "stderr",
     "output_type": "stream",
     "text": [
      "       9/10      2.49G     0.6725      1.068      1.053         16        640: 100%|██████████| 55/55 [00:10<00:00,  5.\n",
      "                 Class     Images  Instances      Box(P          R      mAP50  mAP50-95): 100%|██████████| 7/7 [00:01<0"
     ]
    },
    {
     "name": "stdout",
     "output_type": "stream",
     "text": [
      "                   all        220        225      0.992      0.994      0.995       0.82\n"
     ]
    },
    {
     "name": "stderr",
     "output_type": "stream",
     "text": [
      "\n"
     ]
    },
    {
     "name": "stdout",
     "output_type": "stream",
     "text": [
      "\n",
      "      Epoch    GPU_mem   box_loss   cls_loss   dfl_loss  Instances       Size\n"
     ]
    },
    {
     "name": "stderr",
     "output_type": "stream",
     "text": [
      "      10/10      2.37G     0.6442      1.006      1.019         16        640: 100%|██████████| 55/55 [00:10<00:00,  5.\n",
      "                 Class     Images  Instances      Box(P          R      mAP50  mAP50-95): 100%|██████████| 7/7 [00:01<0\n"
     ]
    },
    {
     "name": "stdout",
     "output_type": "stream",
     "text": [
      "                   all        220        225      0.993      0.997      0.995      0.828\n",
      "\n",
      "10 epochs completed in 0.045 hours.\n",
      "Optimizer stripped from runs\\detect\\train19\\weights\\last.pt, 5.4MB\n",
      "Optimizer stripped from runs\\detect\\train19\\weights\\best.pt, 5.4MB\n",
      "\n",
      "Validating runs\\detect\\train19\\weights\\best.pt...\n",
      "Ultralytics 8.3.27  Python-3.12.7 torch-2.5.1+cu124 CUDA:0 (NVIDIA GeForce RTX 4050 Laptop GPU, 6140MiB)\n",
      "YOLO11n summary (fused): 238 layers, 2,584,297 parameters, 0 gradients, 6.3 GFLOPs\n"
     ]
    },
    {
     "name": "stderr",
     "output_type": "stream",
     "text": [
      "                 Class     Images  Instances      Box(P          R      mAP50  mAP50-95): 100%|██████████| 7/7 [00:01<0\n"
     ]
    },
    {
     "name": "stdout",
     "output_type": "stream",
     "text": [
      "                   all        220        225      0.993      0.997      0.995      0.827\n",
      "            Centrifuge         10         10       0.98          1      0.995      0.918\n",
      "           Clamp Meter         22         22      0.996          1      0.995      0.774\n",
      "    Digital Multimeter         16         16      0.996          1      0.995       0.84\n",
      "    Function Generator         19         19       0.99          1      0.995      0.873\n",
      "        Overhead Mixer         21         21      0.995          1      0.995      0.808\n",
      "          Power Supply         18         18      0.992          1      0.995      0.891\n",
      "        Rework Station         20         20      0.994          1      0.995       0.74\n",
      "     Soldering Station         22         22      0.993          1      0.995       0.79\n",
      "           Thermometer         23         23          1      0.967      0.995       0.72\n",
      "            Water Bath         27         27      0.998          1      0.995      0.891\n",
      "        Weighing Scale         27         27      0.992          1      0.995      0.849\n",
      "Speed: 0.2ms preprocess, 1.8ms inference, 0.0ms loss, 1.1ms postprocess per image\n",
      "Results saved to \u001b[1mruns\\detect\\train19\u001b[0m\n"
     ]
    }
   ],
   "source": [
    "# Load the YOLO model\n",
    "model3 = YOLO('yolo11n.pt')  \n",
    "\n",
    "# Train the model\n",
    "trainer3 = model3.train(\n",
    "    data='./instruments.yaml',  # Path to your YAML file\n",
    "    epochs=10,                             # Number of epochs\n",
    "    imgsz=640                              # Image size \n",
    ")"
   ]
  },
  {
   "cell_type": "code",
   "execution_count": 3,
   "id": "f7162167-957a-40c4-8f9d-ec892d283b82",
   "metadata": {},
   "outputs": [
    {
     "name": "stdout",
     "output_type": "stream",
     "text": [
      "Ultralytics 8.3.27  Python-3.12.7 torch-2.5.1+cu124 CUDA:0 (NVIDIA GeForce RTX 4050 Laptop GPU, 6140MiB)\n",
      "YOLO11n summary (fused): 238 layers, 2,584,297 parameters, 0 gradients, 6.3 GFLOPs\n"
     ]
    },
    {
     "name": "stderr",
     "output_type": "stream",
     "text": [
      "\u001b[34m\u001b[1mval: \u001b[0mScanning C:\\Users\\Yasiru Fernando\\Desktop\\DLCV Project\\dataset\\labels\\val.cache... 220 images, 0 backgrounds, 0 co\u001b[0m\n",
      "                 Class     Images  Instances      Box(P          R      mAP50  mAP50-95): 100%|██████████| 14/14 [00:02\n"
     ]
    },
    {
     "name": "stdout",
     "output_type": "stream",
     "text": [
      "                   all        220        225      0.993      0.997      0.995      0.827\n",
      "            Centrifuge         10         10       0.98          1      0.995      0.921\n",
      "           Clamp Meter         22         22      0.996          1      0.995       0.77\n",
      "    Digital Multimeter         16         16      0.996          1      0.995       0.84\n",
      "    Function Generator         19         19       0.99          1      0.995      0.873\n",
      "        Overhead Mixer         21         21      0.995          1      0.995      0.808\n",
      "          Power Supply         18         18      0.992          1      0.995      0.891\n",
      "        Rework Station         20         20      0.994          1      0.995       0.74\n",
      "     Soldering Station         22         22      0.993          1      0.995       0.79\n",
      "           Thermometer         23         23          1      0.967      0.995       0.72\n",
      "            Water Bath         27         27      0.998          1      0.995      0.896\n",
      "        Weighing Scale         27         27      0.992          1      0.995      0.849\n",
      "Speed: 0.5ms preprocess, 3.4ms inference, 0.0ms loss, 1.2ms postprocess per image\n",
      "Results saved to \u001b[1mruns\\detect\\train192\u001b[0m\n"
     ]
    }
   ],
   "source": [
    "# Evaluate the model\n",
    "metrics3 = model3.val()  # This will evaluate on the validation dataset specified in the YAML fileinfer_and_visualize()"
   ]
  },
  {
   "cell_type": "code",
   "execution_count": 4,
   "id": "f9dfb35e-ac7e-4577-a99f-67cfbc80be18",
   "metadata": {},
   "outputs": [
    {
     "name": "stdout",
     "output_type": "stream",
     "text": [
      "\n",
      "image 1/20 C:\\Users\\Yasiru Fernando\\Desktop\\DLCV Project\\test_images\\centrifuge1.png: 384x640 1 Centrifuge, 1 Water Bath, 66.3ms\n",
      "image 2/20 C:\\Users\\Yasiru Fernando\\Desktop\\DLCV Project\\test_images\\centrifuge2.png: 384x640 1 Centrifuge, 1 Water Bath, 22.0ms\n",
      "image 3/20 C:\\Users\\Yasiru Fernando\\Desktop\\DLCV Project\\test_images\\clampmeter.png: 384x640 1 Clamp Meter, 20.0ms\n",
      "image 4/20 C:\\Users\\Yasiru Fernando\\Desktop\\DLCV Project\\test_images\\functiongenerator.png: 384x640 1 Function Generator, 26.0ms\n",
      "image 5/20 C:\\Users\\Yasiru Fernando\\Desktop\\DLCV Project\\test_images\\multimeter.png: 384x640 1 Digital Multimeter, 17.0ms\n",
      "image 6/20 C:\\Users\\Yasiru Fernando\\Desktop\\DLCV Project\\test_images\\multimeter2.png: 640x640 (no detections), 26.5ms\n",
      "image 7/20 C:\\Users\\Yasiru Fernando\\Desktop\\DLCV Project\\test_images\\overheadmixer.png: 384x640 1 Overhead Mixer, 23.5ms\n",
      "image 8/20 C:\\Users\\Yasiru Fernando\\Desktop\\DLCV Project\\test_images\\powersupply.png: 384x640 1 Power Supply, 19.5ms\n",
      "image 9/20 C:\\Users\\Yasiru Fernando\\Desktop\\DLCV Project\\test_images\\powersupply2.jpg: 640x640 (no detections), 28.0ms\n",
      "image 10/20 C:\\Users\\Yasiru Fernando\\Desktop\\DLCV Project\\test_images\\reworkstation.png: 384x640 1 Rework Station, 27.0ms\n",
      "image 11/20 C:\\Users\\Yasiru Fernando\\Desktop\\DLCV Project\\test_images\\scale1.png: 384x640 1 Weighing Scale, 21.0ms\n",
      "image 12/20 C:\\Users\\Yasiru Fernando\\Desktop\\DLCV Project\\test_images\\scale2.png: 384x640 1 Weighing Scale, 21.0ms\n",
      "image 13/20 C:\\Users\\Yasiru Fernando\\Desktop\\DLCV Project\\test_images\\scale3.jpg: 512x640 1 Weighing Scale, 59.5ms\n",
      "image 14/20 C:\\Users\\Yasiru Fernando\\Desktop\\DLCV Project\\test_images\\solderingstation.png: 384x640 1 Soldering Station, 19.0ms\n",
      "image 15/20 C:\\Users\\Yasiru Fernando\\Desktop\\DLCV Project\\test_images\\thermometer1.png: 384x640 1 Thermometer, 21.0ms\n",
      "image 16/20 C:\\Users\\Yasiru Fernando\\Desktop\\DLCV Project\\test_images\\thermometer2.png: 384x640 1 Thermometer, 21.0ms\n",
      "image 17/20 C:\\Users\\Yasiru Fernando\\Desktop\\DLCV Project\\test_images\\thermometer3.png: 384x640 1 Thermometer, 20.0ms\n",
      "image 18/20 C:\\Users\\Yasiru Fernando\\Desktop\\DLCV Project\\test_images\\thermometer4.png: 384x640 1 Thermometer, 19.5ms\n",
      "image 19/20 C:\\Users\\Yasiru Fernando\\Desktop\\DLCV Project\\test_images\\thermometer5.jpeg: 640x640 (no detections), 29.0ms\n",
      "image 20/20 C:\\Users\\Yasiru Fernando\\Desktop\\DLCV Project\\test_images\\waterbath.png: 384x640 1 Water Bath, 20.0ms\n",
      "Speed: 4.1ms preprocess, 26.3ms inference, 3.5ms postprocess per image at shape (1, 3, 384, 640)\n",
      "Results saved to \u001b[1mresults_yolov11\\done\u001b[0m\n"
     ]
    }
   ],
   "source": [
    "results = model3(source='./test_images', save=True, project='./results_yolov11', name='done')"
   ]
  },
  {
   "cell_type": "code",
   "execution_count": null,
   "id": "fb9e11cf-3ee3-4c8f-9104-05dd99c40d73",
   "metadata": {},
   "outputs": [],
   "source": []
  }
 ],
 "metadata": {
  "kernelspec": {
   "display_name": "torch-env",
   "language": "python",
   "name": "torch-env"
  },
  "language_info": {
   "codemirror_mode": {
    "name": "ipython",
    "version": 3
   },
   "file_extension": ".py",
   "mimetype": "text/x-python",
   "name": "python",
   "nbconvert_exporter": "python",
   "pygments_lexer": "ipython3",
   "version": "3.12.7"
  }
 },
 "nbformat": 4,
 "nbformat_minor": 5
}
